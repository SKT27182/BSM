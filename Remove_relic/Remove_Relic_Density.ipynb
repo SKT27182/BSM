{
 "cells": [
  {
   "cell_type": "code",
   "execution_count": 1,
   "metadata": {},
   "outputs": [],
   "source": [
    "import numpy as np\n",
    "import pandas as pd\n",
    "import os\n",
    "# set scripts to path\n",
    "import sys\n",
    "sys.path.append(os.path.abspath('../Notebooks/scripts'))\n",
    "import matplotlib.pyplot as plt\n",
    "from extract import ExtractData"
   ]
  },
  {
   "cell_type": "code",
   "execution_count": null,
   "metadata": {},
   "outputs": [],
   "source": [
    "BREE\n",
    "BRMM\n",
    "BRLL\n",
    "BRGG"
   ]
  },
  {
   "cell_type": "code",
   "execution_count": null,
   "metadata": {},
   "outputs": [],
   "source": [
    "*   h -> ee\n",
    "\n",
    "      IF(MH.LE.2d0*MEL)THEN\n",
    "       HEE= 0d0\n",
    "      ELSE\n",
    "       HEE= CD(I)**2*HFF(MH,(MEL/MH)**2)\n",
    "      ENDIF\n",
    "\n",
    "*   h -> mumu\n",
    "\n",
    "       IF(MH.LE.2d0*MMUON)THEN\n",
    "        HMM= 0d0\n",
    "       ELSE\n",
    "        HMM= CD(I)**2*HFF(MH,(MMUON/MH)**2)\n",
    "       ENDIF\n",
    "\n",
    "*   h -> tautau\n",
    "\n",
    "       IF(MH.LE.2d0*MTAU)THEN\n",
    "        HLL= 0d0\n",
    "       ELSE\n",
    "        HLL= CL(I)**2*HFF(MH,(MTAU/MH)**2)\n",
    "       ENDIF"
   ]
  },
  {
   "cell_type": "code",
   "execution_count": 2,
   "metadata": {},
   "outputs": [],
   "source": [
    "ed = ExtractData()\n",
    "\n",
    "input_file = '/home/shailja/softwares/NMSSMTools_6.0.0/code/Remove_relic/inpZ3_P1.dat'\n",
    "\n",
    "# changing the current working directory to NMSSMTools_6.0.0 for running the code of NMSSMTools\n",
    "os.chdir(\"/home/shailja/softwares/NMSSMTools_6.0.0/\")\n",
    "\n",
    "output_file='/home/shailja/softwares/NMSSMTools_6.0.0/code/Remove_relic/spectrZ3.dat'"
   ]
  },
  {
   "cell_type": "code",
   "execution_count": 3,
   "metadata": {},
   "outputs": [
    {
     "name": "stdout",
     "output_type": "stream",
     "text": [
      "Running NMHDECAY for 1 point\n",
      "with input file /home/shailja/softwares/NMSSMTools_6.0.0/code/Remove_relic/inpZ3_P1.dat\n",
      "DM relic density will be computed by micrOMEGAs\n",
      "Output files spectrZ3_P1.dat and omegaZ3_P1.dat\n",
      "will be written in directory /home/shailja/softwares/NMSSMTools_6.0.0/code/Remove_relic\n",
      "OK!\n"
     ]
    },
    {
     "data": {
      "text/plain": [
       "0"
      ]
     },
     "execution_count": 3,
     "metadata": {},
     "output_type": "execute_result"
    }
   ],
   "source": [
    "os.system(f\"./run {input_file}\")"
   ]
  },
  {
   "cell_type": "code",
   "execution_count": null,
   "metadata": {},
   "outputs": [],
   "source": []
  }
 ],
 "metadata": {
  "kernelspec": {
   "display_name": "my_env",
   "language": "python",
   "name": "python3"
  },
  "language_info": {
   "codemirror_mode": {
    "name": "ipython",
    "version": 3
   },
   "file_extension": ".py",
   "mimetype": "text/x-python",
   "name": "python",
   "nbconvert_exporter": "python",
   "pygments_lexer": "ipython3",
   "version": "3.10.6"
  },
  "orig_nbformat": 4
 },
 "nbformat": 4,
 "nbformat_minor": 2
}
