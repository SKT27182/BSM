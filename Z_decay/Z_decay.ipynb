{
 "cells": [
  {
   "cell_type": "code",
   "execution_count": 1,
   "metadata": {},
   "outputs": [],
   "source": [
    "import numpy as np\n",
    "import pandas as pd\n",
    "import os\n",
    "# set scripts to path\n",
    "import sys\n",
    "sys.path.append(os.path.abspath('../Notebooks/scripts'))\n",
    "import matplotlib.pyplot as plt\n",
    "from extract import ExtractData"
   ]
  },
  {
   "cell_type": "code",
   "execution_count": 2,
   "metadata": {},
   "outputs": [],
   "source": [
    "ed = ExtractData()\n",
    "\n",
    "input_file_1 = '/home/shailja/softwares/NMSSMTools_6.0.0/code/Z_decay/inpZ3_1.dat'\n",
    "input_file_2 = '/home/shailja/softwares/NMSSMTools_6.0.0/code/Z_decay/inpZ3_2.dat'\n",
    "\n",
    "# changing the current working directory to NMSSMTools_6.0.0 for running the code of NMSSMTools\n",
    "os.chdir(\"/home/shailja/softwares/NMSSMTools_6.0.0/\")\n",
    "\n",
    "output_file='/home/shailja/softwares/NMSSMTools_6.0.0/code/Z_decay/spectrZ3_P1.dat'"
   ]
  },
  {
   "cell_type": "code",
   "execution_count": 3,
   "metadata": {},
   "outputs": [
    {
     "name": "stdout",
     "output_type": "stream",
     "text": [
      "Running NMHDECAY for 1 point\n",
      "with input file /home/shailja/softwares/NMSSMTools_6.0.0/code/Z_decay/inpZ3_1.dat\n",
      "DM relic density will be computed by micrOMEGAs\n",
      "Output files spectrZ3_1.dat and omegaZ3_1.dat\n",
      "will be written in directory /home/shailja/softwares/NMSSMTools_6.0.0/code/Z_decay\n",
      "OK!\n"
     ]
    },
    {
     "data": {
      "text/plain": [
       "0"
      ]
     },
     "execution_count": 3,
     "metadata": {},
     "output_type": "execute_result"
    }
   ],
   "source": [
    "os.system(f\"./run {input_file_1}\")"
   ]
  },
  {
   "cell_type": "code",
   "execution_count": 4,
   "metadata": {},
   "outputs": [
    {
     "name": "stdout",
     "output_type": "stream",
     "text": [
      "Running NMHDECAY for 1 point\n",
      "with input file /home/shailja/softwares/NMSSMTools_6.0.0/code/Z_decay/inpZ3_2.dat\n",
      "DM relic density will be computed by micrOMEGAs\n",
      "Output files spectrZ3_2.dat and omegaZ3_2.dat\n",
      "will be written in directory /home/shailja/softwares/NMSSMTools_6.0.0/code/Z_decay\n",
      "OK!\n"
     ]
    },
    {
     "data": {
      "text/plain": [
       "0"
      ]
     },
     "execution_count": 4,
     "metadata": {},
     "output_type": "execute_result"
    }
   ],
   "source": [
    "os.system(f\"./run {input_file_2}\")"
   ]
  },
  {
   "cell_type": "code",
   "execution_count": null,
   "metadata": {},
   "outputs": [],
   "source": []
  }
 ],
 "metadata": {
  "kernelspec": {
   "display_name": "my_env",
   "language": "python",
   "name": "python3"
  },
  "language_info": {
   "codemirror_mode": {
    "name": "ipython",
    "version": 3
   },
   "file_extension": ".py",
   "mimetype": "text/x-python",
   "name": "python",
   "nbconvert_exporter": "python",
   "pygments_lexer": "ipython3",
   "version": "3.10.6"
  },
  "orig_nbformat": 4
 },
 "nbformat": 4,
 "nbformat_minor": 2
}
