{
 "cells": [
  {
   "cell_type": "code",
   "execution_count": 1,
   "metadata": {},
   "outputs": [],
   "source": [
    "import numpy as np\n",
    "import pandas as pd\n",
    "import os\n",
    "# set scripts to path\n",
    "import sys\n",
    "sys.path.append(os.path.abspath('../scripts'))\n",
    "\n",
    "import matplotlib.pyplot as plt\n",
    "from extract import ExtractData \n",
    "from inp_file import CreateInputFile"
   ]
  },
  {
   "cell_type": "code",
   "execution_count": 2,
   "metadata": {},
   "outputs": [],
   "source": [
    "input_file = '/home/shailja/softwares/NMSSMTools_6.0.0/code/Notebooks/trial_part/inpZ3.dat'\n",
    "# changing the current working directory to NMSSMTools_6.0.0 for running the code of NMSSMTools\n",
    "os.chdir(\"/home/shailja/softwares/NMSSMTools_6.0.0/\")\n",
    "output_file=\"/home/shailja/softwares/NMSSMTools_6.0.0/code/Notebooks/trial_part/spectrZ3.dat\"\n"
   ]
  },
  {
   "cell_type": "code",
   "execution_count": 3,
   "metadata": {},
   "outputs": [],
   "source": [
    "ed = ExtractData()"
   ]
  },
  {
   "cell_type": "code",
   "execution_count": 4,
   "metadata": {},
   "outputs": [],
   "source": [
    "def check_contrains(**kwargs):\n",
    "    condition1 = (kwargs['neutralino_1'] < 200) and (kwargs['neutralino_1'] > 320) \n",
    "    condition2 = ( kwargs['gluino'] > 2400 ) \n",
    "\n",
    "\n",
    "\n",
    "    #print which condition is not satisfied and return False in general way\n",
    "    # if not condition1:\n",
    "    #     print(\"Nuetrino(1) mass > 1050 not satisfied\")\n",
    "    #     return False\n",
    "    if not condition2:\n",
    "        print(\"~g mass > 2000 not satisfied\")\n",
    "        return False\n",
    "    else:\n",
    "        return True"
   ]
  },
  {
   "cell_type": "code",
   "execution_count": null,
   "metadata": {},
   "outputs": [],
   "source": [
    "create = CreateInputFile()\n",
    "create.MQ3 = 1500\n",
    "create.MU3 = 1500\n",
    "create.MD3 = 1500\n",
    "create.ML3 = 300\n",
    "create.ME3 = 300\n",
    "create.MQ2 = 1500\n",
    "create.MU2 = 1500\n",
    "create.MD2 = 1500\n",
    "create.ML2 = 300\n",
    "create.ME2 = 300\n",
    "\n",
    "try:\n",
    "    for TAN_Beta in np.linspace(1, 7, 10):\n",
    "        create.TAN_Beta = TAN_Beta\n",
    "\n",
    "        for LAMBDA in np.linspace(1e-3,0.8,5):\n",
    "            create.LAMBDA = LAMBDA\n",
    "\n",
    "            for KAPPA in np.linspace(1e-3,1,5):\n",
    "                create.KAPPA = KAPPA\n",
    "\n",
    "                for ALAMBDA in np.linspace(100,1000,10):\n",
    "                    create.ALAMBDA = ALAMBDA\n",
    "\n",
    "                    for AKAPPA in np.linspace(10,20,10):\n",
    "                        create.AKAPPA = AKAPPA\n",
    "\n",
    "                        create.save_input_file(input_file)\n",
    "\n",
    "                        os.system(f\"./run {input_file}\")\n",
    "                        \n",
    "                        mass = ed.extract_mass_spectrum(output_file)\n",
    "\n",
    "                        # check if we got the output or not\n",
    "                        if len(mass) ==0:\n",
    "                            print(f\"No output for TAN_Beta={TAN_Beta} LAMBDA={LAMBDA} KAPPA={KAPPA}\")\n",
    "                            continue\n",
    "\n",
    "                        Neutralino_1_ = mass[mass[\"Particle Name\"]==\"neutralino(1)\"][\"Mass\"].values[0]\n",
    "                        Gluino_ = mass[mass[\"Particle Name\"]==\"~g\"][\"Mass\"].values[0]\n",
    "\n",
    "\n",
    "                        if not check_contrains(neutralino_1=Neutralino_1_, gluino=Gluino_):\n",
    "                            # print(f\"Contrains are not satisfied for TAN_Beta={TAN_Beta} LAMBDA={LAMBDA} KAPPA={KAPPA} AKAPPA={AKAPPA} ALAMBDA={ALAMBDA}\")\n",
    "                            continue\n",
    "                        else:\n",
    "                            print(f\"Output for TAN_Beta={TAN_Beta} LAMBDA={LAMBDA} KAPPA={KAPPA} AKAPPA={AKAPPA} ALAMBDA={ALAMBDA} is found\")\n",
    "                            if input(\"Do you want to continue? (y/n)\") == \"n\":\n",
    "                                raise StopIteration\n",
    "\n",
    "except:\n",
    "    pass"
   ]
  },
  {
   "cell_type": "code",
   "execution_count": null,
   "metadata": {},
   "outputs": [],
   "source": []
  }
 ],
 "metadata": {
  "kernelspec": {
   "display_name": "my_env",
   "language": "python",
   "name": "python3"
  },
  "language_info": {
   "codemirror_mode": {
    "name": "ipython",
    "version": 3
   },
   "file_extension": ".py",
   "mimetype": "text/x-python",
   "name": "python",
   "nbconvert_exporter": "python",
   "pygments_lexer": "ipython3",
   "version": "3.10.6"
  },
  "orig_nbformat": 4,
  "vscode": {
   "interpreter": {
    "hash": "883925ad5274a5221e91c803bb1760502f89cbbc1f3c478126dc340e17a6050f"
   }
  }
 },
 "nbformat": 4,
 "nbformat_minor": 2
}
